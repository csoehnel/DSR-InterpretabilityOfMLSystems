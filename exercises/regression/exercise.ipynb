{
 "cells": [
  {
   "cell_type": "code",
   "execution_count": null,
   "metadata": {},
   "outputs": [],
   "source": [
    "# TODO\n",
    "# - https://en.wikipedia.org/wiki/Multicollinearity#Detection_of_multicollinearity\n",
    "# - https://en.wikipedia.org/wiki/Cook%27s_distance (http://www.statsmodels.org/dev/generated/statsmodels.stats.outliers_influence.OLSInfluence.summary_frame.html)\n",
    "# - https://en.wikipedia.org/wiki/Leverage_(statistics)#Linear_regression_model"
   ]
  },
  {
   "cell_type": "code",
   "execution_count": 1,
   "metadata": {},
   "outputs": [],
   "source": [
    "%matplotlib inline\n",
    "import matplotlib.pyplot as plt\n",
    "from sklearn.linear_model import LinearRegression, SGDRegressor\n",
    "from sklearn.pipeline import Pipeline\n",
    "from sklearn.preprocessing import StandardScaler, FunctionTransformer, OneHotEncoder, MinMaxScaler\n",
    "from sklearn.compose import ColumnTransformer\n",
    "from sklearn.model_selection import train_test_split, GridSearchCV\n",
    "from sklearn.metrics import r2_score, explained_variance_score, mean_squared_error\n",
    "import statsmodels.api as sm\n",
    "from scipy import stats\n",
    "import seaborn as sns\n",
    "import pandas as pd\n",
    "import numpy as np"
   ]
  },
  {
   "cell_type": "code",
   "execution_count": 2,
   "metadata": {},
   "outputs": [
    {
     "data": {
      "text/html": [
       "<div>\n",
       "<style scoped>\n",
       "    .dataframe tbody tr th:only-of-type {\n",
       "        vertical-align: middle;\n",
       "    }\n",
       "\n",
       "    .dataframe tbody tr th {\n",
       "        vertical-align: top;\n",
       "    }\n",
       "\n",
       "    .dataframe thead th {\n",
       "        text-align: right;\n",
       "    }\n",
       "</style>\n",
       "<table border=\"1\" class=\"dataframe\">\n",
       "  <thead>\n",
       "    <tr style=\"text-align: right;\">\n",
       "      <th></th>\n",
       "      <th>instant</th>\n",
       "      <th>dteday</th>\n",
       "      <th>season</th>\n",
       "      <th>yr</th>\n",
       "      <th>mnth</th>\n",
       "      <th>holiday</th>\n",
       "      <th>weekday</th>\n",
       "      <th>workingday</th>\n",
       "      <th>weathersit</th>\n",
       "      <th>temp</th>\n",
       "      <th>atemp</th>\n",
       "      <th>hum</th>\n",
       "      <th>windspeed</th>\n",
       "      <th>casual</th>\n",
       "      <th>registered</th>\n",
       "      <th>cnt</th>\n",
       "    </tr>\n",
       "  </thead>\n",
       "  <tbody>\n",
       "    <tr>\n",
       "      <th>0</th>\n",
       "      <td>1</td>\n",
       "      <td>2011-01-01</td>\n",
       "      <td>1</td>\n",
       "      <td>0</td>\n",
       "      <td>1</td>\n",
       "      <td>0</td>\n",
       "      <td>6</td>\n",
       "      <td>0</td>\n",
       "      <td>2</td>\n",
       "      <td>0.344167</td>\n",
       "      <td>0.363625</td>\n",
       "      <td>0.805833</td>\n",
       "      <td>0.160446</td>\n",
       "      <td>331</td>\n",
       "      <td>654</td>\n",
       "      <td>985</td>\n",
       "    </tr>\n",
       "    <tr>\n",
       "      <th>1</th>\n",
       "      <td>2</td>\n",
       "      <td>2011-01-02</td>\n",
       "      <td>1</td>\n",
       "      <td>0</td>\n",
       "      <td>1</td>\n",
       "      <td>0</td>\n",
       "      <td>0</td>\n",
       "      <td>0</td>\n",
       "      <td>2</td>\n",
       "      <td>0.363478</td>\n",
       "      <td>0.353739</td>\n",
       "      <td>0.696087</td>\n",
       "      <td>0.248539</td>\n",
       "      <td>131</td>\n",
       "      <td>670</td>\n",
       "      <td>801</td>\n",
       "    </tr>\n",
       "    <tr>\n",
       "      <th>2</th>\n",
       "      <td>3</td>\n",
       "      <td>2011-01-03</td>\n",
       "      <td>1</td>\n",
       "      <td>0</td>\n",
       "      <td>1</td>\n",
       "      <td>0</td>\n",
       "      <td>1</td>\n",
       "      <td>1</td>\n",
       "      <td>1</td>\n",
       "      <td>0.196364</td>\n",
       "      <td>0.189405</td>\n",
       "      <td>0.437273</td>\n",
       "      <td>0.248309</td>\n",
       "      <td>120</td>\n",
       "      <td>1229</td>\n",
       "      <td>1349</td>\n",
       "    </tr>\n",
       "    <tr>\n",
       "      <th>3</th>\n",
       "      <td>4</td>\n",
       "      <td>2011-01-04</td>\n",
       "      <td>1</td>\n",
       "      <td>0</td>\n",
       "      <td>1</td>\n",
       "      <td>0</td>\n",
       "      <td>2</td>\n",
       "      <td>1</td>\n",
       "      <td>1</td>\n",
       "      <td>0.200000</td>\n",
       "      <td>0.212122</td>\n",
       "      <td>0.590435</td>\n",
       "      <td>0.160296</td>\n",
       "      <td>108</td>\n",
       "      <td>1454</td>\n",
       "      <td>1562</td>\n",
       "    </tr>\n",
       "    <tr>\n",
       "      <th>4</th>\n",
       "      <td>5</td>\n",
       "      <td>2011-01-05</td>\n",
       "      <td>1</td>\n",
       "      <td>0</td>\n",
       "      <td>1</td>\n",
       "      <td>0</td>\n",
       "      <td>3</td>\n",
       "      <td>1</td>\n",
       "      <td>1</td>\n",
       "      <td>0.226957</td>\n",
       "      <td>0.229270</td>\n",
       "      <td>0.436957</td>\n",
       "      <td>0.186900</td>\n",
       "      <td>82</td>\n",
       "      <td>1518</td>\n",
       "      <td>1600</td>\n",
       "    </tr>\n",
       "  </tbody>\n",
       "</table>\n",
       "</div>"
      ],
      "text/plain": [
       "   instant      dteday  season  yr  mnth  holiday  weekday  workingday  \\\n",
       "0        1  2011-01-01       1   0     1        0        6           0   \n",
       "1        2  2011-01-02       1   0     1        0        0           0   \n",
       "2        3  2011-01-03       1   0     1        0        1           1   \n",
       "3        4  2011-01-04       1   0     1        0        2           1   \n",
       "4        5  2011-01-05       1   0     1        0        3           1   \n",
       "\n",
       "   weathersit      temp     atemp       hum  windspeed  casual  registered  \\\n",
       "0           2  0.344167  0.363625  0.805833   0.160446     331         654   \n",
       "1           2  0.363478  0.353739  0.696087   0.248539     131         670   \n",
       "2           1  0.196364  0.189405  0.437273   0.248309     120        1229   \n",
       "3           1  0.200000  0.212122  0.590435   0.160296     108        1454   \n",
       "4           1  0.226957  0.229270  0.436957   0.186900      82        1518   \n",
       "\n",
       "    cnt  \n",
       "0   985  \n",
       "1   801  \n",
       "2  1349  \n",
       "3  1562  \n",
       "4  1600  "
      ]
     },
     "execution_count": 2,
     "metadata": {},
     "output_type": "execute_result"
    }
   ],
   "source": [
    "df = pd.read_csv(\"../../data/bike/day.csv\")\n",
    "df.head()"
   ]
  },
  {
   "cell_type": "code",
   "execution_count": 3,
   "metadata": {},
   "outputs": [
    {
     "data": {
      "text/plain": [
       "{'instant': 731,\n",
       " 'dteday': 731,\n",
       " 'season': 4,\n",
       " 'yr': 2,\n",
       " 'mnth': 12,\n",
       " 'holiday': 2,\n",
       " 'weekday': 7,\n",
       " 'workingday': 2,\n",
       " 'weathersit': 3,\n",
       " 'temp': 499,\n",
       " 'atemp': 690,\n",
       " 'hum': 595,\n",
       " 'windspeed': 650,\n",
       " 'casual': 606,\n",
       " 'registered': 679,\n",
       " 'cnt': 696}"
      ]
     },
     "execution_count": 3,
     "metadata": {},
     "output_type": "execute_result"
    }
   ],
   "source": [
    "# count distinct\n",
    "{col: df[col].nunique() for col in df.columns}"
   ]
  },
  {
   "cell_type": "code",
   "execution_count": 4,
   "metadata": {},
   "outputs": [
    {
     "data": {
      "text/plain": [
       "{'instant': 1.0,\n",
       " 'dteday': 1.0,\n",
       " 'season': 1.0,\n",
       " 'yr': 1.0,\n",
       " 'mnth': 1.0,\n",
       " 'holiday': 1.0,\n",
       " 'weekday': 1.0,\n",
       " 'workingday': 1.0,\n",
       " 'weathersit': 1.0,\n",
       " 'temp': 1.0,\n",
       " 'atemp': 1.0,\n",
       " 'hum': 1.0,\n",
       " 'windspeed': 1.0,\n",
       " 'casual': 1.0,\n",
       " 'registered': 1.0,\n",
       " 'cnt': 1.0}"
      ]
     },
     "execution_count": 4,
     "metadata": {},
     "output_type": "execute_result"
    }
   ],
   "source": [
    "# completeness\n",
    "{col: 1-df[col].isna().mean() for col in df.columns}"
   ]
  },
  {
   "cell_type": "code",
   "execution_count": 52,
   "metadata": {},
   "outputs": [
    {
     "data": {
      "text/plain": [
       "Pipeline(memory=None,\n",
       "     steps=[('transformers', ColumnTransformer(n_jobs=None, remainder='drop', sparse_threshold=0.3,\n",
       "         transformer_weights=None,\n",
       "         transformers=[('temp', Pipeline(memory=None,\n",
       "     steps=[('wrapper', FunctionTransformer(accept_sparse=True, check_inverse=True,\n",
       "          func=<function _numeri...timator', LinearRegression(copy_X=True, fit_intercept=True, n_jobs=None,\n",
       "         normalize=False))])"
      ]
     },
     "execution_count": 52,
     "metadata": {},
     "output_type": "execute_result"
    }
   ],
   "source": [
    "def _numeric_transformer(X):\n",
    "    return pd.DataFrame([X]).T\n",
    "\n",
    "col_encoders = {\n",
    "#     'temp': Pipeline(\n",
    "#                 # StandardScaler needs a 2d np.array\n",
    "#                 [('wrapper', FunctionTransformer(_numeric_transformer, validate=False, accept_sparse=True))]\n",
    "#     ),\n",
    "    'temp': Pipeline(\n",
    "                # StandardScaler needs a 2d np.array\n",
    "                [('wrapper', FunctionTransformer(_numeric_transformer, validate=False, accept_sparse=True))]\n",
    "    ),\n",
    "    'workingday': Pipeline(\n",
    "                # OneHotEncoder needs a 2d np.array\n",
    "                [('wrapper', FunctionTransformer(_numeric_transformer, validate=False, accept_sparse=True))]\n",
    "    ),\n",
    "#     'holiday': Pipeline(\n",
    "#                 # OneHotEncoder needs a 2d np.array\n",
    "#                 [('wrapper', FunctionTransformer(_numeric_transformer, validate=False, accept_sparse=True))]\n",
    "#     ),\n",
    "    'weathersit': Pipeline(\n",
    "                # OneHotEncoder needs a 2d np.array\n",
    "                [('wrapper', FunctionTransformer(_numeric_transformer, validate=False, accept_sparse=True))]\n",
    "                 #('scaler', StandardScaler())]\n",
    "    ),\n",
    "#     'season': Pipeline(\n",
    "#                 # OneHotEncoder needs a 2d np.array\n",
    "#                 [('wrapper', FunctionTransformer(_numeric_transformer, validate=False, accept_sparse=True)),\n",
    "# #                  ('scaler', OneHotEncoder(categories='auto'))\n",
    "#                 ('scaler', StandardScaler())]\n",
    "#     ),\n",
    "}\n",
    "\n",
    "columns = ['temp', 'workingday', 'weathersit']#['temp', 'hum', 'workingday', 'holiday']#, 'weathersit', 'season']\n",
    "\n",
    "transformers = ColumnTransformer([(col, col_encoders[col], col) for col in columns])\n",
    "\n",
    "# estimator = SGDRegressor('squared_loss', max_iter=1000, tol=1e-6)\n",
    "estimator = LinearRegression()\n",
    "\n",
    "model = Pipeline([('transformers', transformers), ('estimator', estimator)])\n",
    "model"
   ]
  },
  {
   "cell_type": "code",
   "execution_count": 53,
   "metadata": {},
   "outputs": [],
   "source": [
    "# OneHotEncoder(categories='auto', sparse=False).fit_transform(df.head()[['weekday']])"
   ]
  },
  {
   "cell_type": "code",
   "execution_count": 54,
   "metadata": {},
   "outputs": [
    {
     "data": {
      "text/plain": [
       "array([6325.42062001,  181.6880878 , -810.50679145])"
      ]
     },
     "execution_count": 54,
     "metadata": {},
     "output_type": "execute_result"
    }
   ],
   "source": [
    "model.fit(df[columns], df['cnt'])\n",
    "model.named_steps['estimator'].coef_"
   ]
  },
  {
   "cell_type": "code",
   "execution_count": 55,
   "metadata": {},
   "outputs": [
    {
     "data": {
      "image/png": "[encoded data removed]",
      "text/plain": [
       "<Figure size 432x288 with 1 Axes>"
      ]
     },
     "metadata": {
      "needs_background": "light"
     },
     "output_type": "display_data"
    }
   ],
   "source": [
    "m = 1e4\n",
    "plt.scatter(df['cnt'], model.predict(df))\n",
    "plt.title('R^2: ' + str(model.score(df[columns], df['cnt'])))\n",
    "plt.plot([0, m], [0, m], c='red')\n",
    "plt.grid(True)"
   ]
  },
  {
   "cell_type": "code",
   "execution_count": 56,
   "metadata": {},
   "outputs": [
    {
     "data": {
      "text/plain": [
       "<matplotlib.axes._subplots.AxesSubplot at 0x7f0fc5e09f60>"
      ]
     },
     "execution_count": 56,
     "metadata": {},
     "output_type": "execute_result"
    },
    {
     "data": {
      "image/png": "[encoded data removed]",
      "text/plain": [
       "<Figure size 432x288 with 1 Axes>"
      ]
     },
     "metadata": {
      "needs_background": "light"
     },
     "output_type": "display_data"
    }
   ],
   "source": [
    "res = df['cnt'] - model.predict(df)\n",
    "sns.distplot(res)"
   ]
  },
  {
   "cell_type": "code",
   "execution_count": 57,
   "metadata": {},
   "outputs": [],
   "source": [
    "# from scipy import stats\n",
    "# # https://en.wikipedia.org/wiki/Normal_probability_plot\n",
    "# stats.probplot(res, plot=plt);\n",
    "# plt.grid(True)"
   ]
  },
  {
   "cell_type": "code",
   "execution_count": 58,
   "metadata": {},
   "outputs": [
    {
     "data": {
      "text/plain": [
       "<matplotlib.axes._subplots.AxesSubplot at 0x7f0fc5de92e8>"
      ]
     },
     "execution_count": 58,
     "metadata": {},
     "output_type": "execute_result"
    },
    {
     "data": {
      "image/png": "[encoded data removed]",
      "text/plain": [
       "<Figure size 432x288 with 1 Axes>"
      ]
     },
     "metadata": {
      "needs_background": "light"
     },
     "output_type": "display_data"
    }
   ],
   "source": [
    "# effect plot\n",
    "# predictions\n",
    "# y = (model.named_steps['transformers'].transform(df) * model.named_steps['estimator'].coef_.reshape(-1, 1) + model.named_steps['estimator'].intercept_).squeeze()\n",
    "\n",
    "\n",
    "X = model.named_steps['transformers'].transform(df)\n",
    "dfs = []\n",
    "for i in range(X.shape[1]):\n",
    "    e = np.multiply(X[:, i], model.named_steps['estimator'].coef_[i]) + model.named_steps['estimator'].intercept_\n",
    "    effect = pd.DataFrame({'e': e.squeeze()})\n",
    "    effect.loc[:, 'dim'] = i\n",
    "    dfs.append(effect)\n",
    "\n",
    "effects = pd.concat(dfs)\n",
    "effects.head()\n",
    "sns.boxplot(x='dim', y='e', data=effects)"
   ]
  },
  {
   "cell_type": "code",
   "execution_count": null,
   "metadata": {},
   "outputs": [],
   "source": []
  },
  {
   "cell_type": "code",
   "execution_count": 61,
   "metadata": {},
   "outputs": [],
   "source": [
    "# https://www.statsmodels.org/dev/examples/notebooks/generated/ols.html\n",
    "# sm.OLS(df['cnt'], X).fit().summary()"
   ]
  },
  {
   "cell_type": "code",
   "execution_count": null,
   "metadata": {},
   "outputs": [],
   "source": []
  }
 ],
 "metadata": {
  "kernelspec": {
   "display_name": "Python 3",
   "language": "python",
   "name": "python3"
  },
  "language_info": {
   "codemirror_mode": {
    "name": "ipython",
    "version": 3
   },
   "file_extension": ".py",
   "mimetype": "text/x-python",
   "name": "python",
   "nbconvert_exporter": "python",
   "pygments_lexer": "ipython3",
   "version": "3.7.2"
  }
 },
 "nbformat": 4,
 "nbformat_minor": 2
}
